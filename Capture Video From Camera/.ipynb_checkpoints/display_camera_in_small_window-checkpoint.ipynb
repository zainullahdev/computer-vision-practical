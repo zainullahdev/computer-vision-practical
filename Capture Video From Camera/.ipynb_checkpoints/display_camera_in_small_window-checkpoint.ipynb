{
 "cells": [
  {
   "cell_type": "markdown",
   "metadata": {},
   "source": [
    "# Displaying camera frames in a window"
   ]
  },
  {
   "cell_type": "code",
   "execution_count": 1,
   "metadata": {},
   "outputs": [
    {
     "name": "stdout",
     "output_type": "stream",
     "text": [
      "Showing Camera Feed. Click window or press any key to stop.\n",
      "Closing Window\n",
      "Closing Camera\n"
     ]
    }
   ],
   "source": [
    "import cv2\n",
    "\n",
    "clicked = False\n",
    "# set up mouse event\n",
    "def onMouse(event, x, y, flags, param):\n",
    "    if event == cv2.EVENT_LBUTTONUP:\n",
    "        clicked = True\n",
    "\n",
    "# get first camera\n",
    "camera_capture = cv2.VideoCapture(0)\n",
    "# create window named my_window\n",
    "# this will be window title\n",
    "cv2.namedWindow('my_window')\n",
    "# assign our function as callback\n",
    "cv2.setMouseCallback('my_window',onMouse)\n",
    "\n",
    "print('Showing Camera Feed. Click window or press any key to stop.')\n",
    "# read frames from camera\n",
    "success, frame = camera_capture.read()\n",
    "\n",
    "# if frame read successfully, and esc key is not pressed\n",
    "# and mouse left is not clicked\n",
    "while success and cv2.waitKey(1) == -1 and not clicked:\n",
    "    # show the frame in the window\n",
    "    cv2.imshow('my_window',frame)\n",
    "    # read next frame\n",
    "    success, frame = camera_capture.read()\n",
    "\n",
    "print('Closing Window')\n",
    "cv2.destroyWindow('my_window')\n",
    "print('Closing Camera')\n",
    "camera_capture.release()"
   ]
  },
  {
   "cell_type": "code",
   "execution_count": null,
   "metadata": {},
   "outputs": [],
   "source": []
  }
 ],
 "metadata": {
  "kernelspec": {
   "display_name": "Python 3",
   "language": "python",
   "name": "python3"
  },
  "language_info": {
   "codemirror_mode": {
    "name": "ipython",
    "version": 3
   },
   "file_extension": ".py",
   "mimetype": "text/x-python",
   "name": "python",
   "nbconvert_exporter": "python",
   "pygments_lexer": "ipython3",
   "version": "3.8.3"
  }
 },
 "nbformat": 4,
 "nbformat_minor": 4
}
