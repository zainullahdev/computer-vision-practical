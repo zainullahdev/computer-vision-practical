{
 "cells": [
  {
   "cell_type": "markdown",
   "metadata": {},
   "source": [
    "# Read Clip from Camera"
   ]
  },
  {
   "cell_type": "code",
   "execution_count": 1,
   "metadata": {},
   "outputs": [],
   "source": [
    "import cv2\n",
    "\n",
    "# get camera - device 0\n",
    "camera_capture = cv2.VideoCapture(0)\n",
    "# set fps\n",
    "fps = 24\n",
    "# get frame width,height\n",
    "size = (int(camera_capture.get(cv2.CAP_PROP_FRAME_WIDTH)),\n",
    "        int(camera_capture.get(cv2.CAP_PROP_FRAME_HEIGHT)))\n",
    "\n",
    "# set file name, codec, fps and size\n",
    "video_writer = cv2.VideoWriter('output.avi',\n",
    "                              cv2.VideoWriter_fourcc('P','I','M','1'),\n",
    "                               fps,size)\n",
    "# get only 5 seconds video\n",
    "num_remaining_frames = 5 * fps - 1\n",
    "success, frame = camera_capture.read()\n",
    "while success and num_remaining_frames > 0:\n",
    "    video_writer.write(frame)\n",
    "    success, frame = camera_capture.read()\n",
    "    num_remaining_frames -= 1\n",
    "\n",
    "# close camera\n",
    "camera_capture.release()\n"
   ]
  },
  {
   "cell_type": "code",
   "execution_count": null,
   "metadata": {},
   "outputs": [],
   "source": []
  }
 ],
 "metadata": {
  "kernelspec": {
   "display_name": "Python 3",
   "language": "python",
   "name": "python3"
  },
  "language_info": {
   "codemirror_mode": {
    "name": "ipython",
    "version": 3
   },
   "file_extension": ".py",
   "mimetype": "text/x-python",
   "name": "python",
   "nbconvert_exporter": "python",
   "pygments_lexer": "ipython3",
   "version": "3.8.3"
  }
 },
 "nbformat": 4,
 "nbformat_minor": 4
}
