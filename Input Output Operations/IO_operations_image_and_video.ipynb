{
 "cells": [
  {
   "cell_type": "code",
   "execution_count": 13,
   "metadata": {},
   "outputs": [
    {
     "data": {
      "text/plain": [
       "'4.2.0'"
      ]
     },
     "execution_count": 13,
     "metadata": {},
     "output_type": "execute_result"
    }
   ],
   "source": [
    "import cv2\n",
    "import numpy as np\n",
    "\n",
    "cv2.__version__"
   ]
  },
  {
   "cell_type": "markdown",
   "metadata": {},
   "source": [
    "# Reading/Writing an image file"
   ]
  },
  {
   "cell_type": "code",
   "execution_count": 2,
   "metadata": {},
   "outputs": [
    {
     "data": {
      "text/plain": [
       "True"
      ]
     },
     "execution_count": 2,
     "metadata": {},
     "output_type": "execute_result"
    }
   ],
   "source": [
    "image = cv2.imread('lion1.jpg')\n",
    "cv2.imwrite('lion2.png',image)"
   ]
  },
  {
   "cell_type": "markdown",
   "metadata": {},
   "source": [
    "# Converting between an image and raw bytes"
   ]
  },
  {
   "cell_type": "code",
   "execution_count": 11,
   "metadata": {},
   "outputs": [
    {
     "data": {
      "text/plain": [
       "True"
      ]
     },
     "execution_count": 11,
     "metadata": {},
     "output_type": "execute_result"
    }
   ],
   "source": [
    "# make array of 400x300 = 120000 array\n",
    "# 400 columns = width\n",
    "# 300 rows = height\n",
    "\n",
    "random_image = np.random.randint(0,256,120000)\n",
    "\n",
    "# gray scale image\n",
    "# 400x300\n",
    "gray_image = random_image.reshape(300,400)\n",
    "\n",
    "# save as gray image\n",
    "cv2.imwrite('gray.jpg',gray_image)\n",
    "\n",
    "# color image \n",
    "# 400x100x (3 channels)\n",
    "color_image = random_image.reshape(100,400,3)\n",
    "cv2.imwrite('color.jpg',color_image)"
   ]
  },
  {
   "cell_type": "markdown",
   "metadata": {},
   "source": [
    "Video taken from https://mixkit.co/free-stock-video/drops-of-water-falling-in-a-puddle-2208/"
   ]
  },
  {
   "cell_type": "code",
   "execution_count": 46,
   "metadata": {},
   "outputs": [],
   "source": [
    "video_capture = cv2.VideoCapture('mixkit-drops-of-water-falling-in-a-puddle-2208.mp4')\n",
    "fps = video_capture.get(cv2.CAP_PROP_FPS)"
   ]
  },
  {
   "cell_type": "code",
   "execution_count": 47,
   "metadata": {},
   "outputs": [
    {
     "data": {
      "text/plain": [
       "23.976023976023978"
      ]
     },
     "execution_count": 47,
     "metadata": {},
     "output_type": "execute_result"
    }
   ],
   "source": [
    "fps"
   ]
  },
  {
   "cell_type": "code",
   "execution_count": 48,
   "metadata": {},
   "outputs": [
    {
     "name": "stdout",
     "output_type": "stream",
     "text": [
      "frame size (1920, 1080)\n"
     ]
    }
   ],
   "source": [
    "size = int(video_capture.get(cv2.CAP_PROP_FRAME_WIDTH)), \\\n",
    "       int(video_capture.get(cv2.CAP_PROP_FRAME_HEIGHT))\n",
    "\n",
    "print('frame size',size)"
   ]
  },
  {
   "cell_type": "code",
   "execution_count": 49,
   "metadata": {},
   "outputs": [],
   "source": [
    "video_writer = cv2.VideoWriter('output_video.avi',\n",
    "                               cv2.VideoWriter_fourcc('F','L','V','1'),\n",
    "                              fps,size)"
   ]
  },
  {
   "cell_type": "code",
   "execution_count": 50,
   "metadata": {},
   "outputs": [],
   "source": [
    "success, frame = video_capture.read()\n",
    "while success:\n",
    "    video_writer.write(frame)\n",
    "    success, frame = video_capture.read()"
   ]
  },
  {
   "cell_type": "markdown",
   "metadata": {},
   "source": [
    "# Tests performed using different codecs"
   ]
  },
  {
   "cell_type": "code",
   "execution_count": 52,
   "metadata": {},
   "outputs": [],
   "source": [
    "# original file\n",
    "# file size: 67 MB\n",
    "# type mp4\n",
    "\n",
    "# cv2.VideoWriter_fourcc('I','4','2','0')\n",
    "# file size: 1.5 GB\n",
    "# type .avi\n",
    "\n",
    "# cv2.VideoWriter_fourcc('P','I','M','1')\n",
    "# file size: 94.4 MB\n",
    "# type .avi\n",
    "\n",
    "# cv2.VideoWriter_fourcc('M','J','P','G'),\n",
    "# file size: 102.2 MB\n",
    "# type .avi\n",
    "\n",
    "# cv2.VideoWriter_fourcc('T','H','E','O'),\n",
    "# file size: 102.4 MB\n",
    "# type .avi\n",
    "\n",
    "# cv2.VideoWriter_fourcc('F','L','V','1'),\n",
    "# file size: 97.5 MB\n",
    "# type .avi\n",
    "\n",
    "\n"
   ]
  },
  {
   "cell_type": "markdown",
   "metadata": {},
   "source": [
    "# Increase FPS "
   ]
  },
  {
   "cell_type": "code",
   "execution_count": 53,
   "metadata": {},
   "outputs": [
    {
     "name": "stdout",
     "output_type": "stream",
     "text": [
      "frame size (1920, 1080)\n"
     ]
    }
   ],
   "source": [
    "# increase fps from 23.97 to 60\n",
    "video_capture = cv2.VideoCapture('mixkit-drops-of-water-falling-in-a-puddle-2208.mp4')\n",
    "fps = video_capture.get(cv2.CAP_PROP_FPS)\n",
    "size = int(video_capture.get(cv2.CAP_PROP_FRAME_WIDTH)), \\\n",
    "       int(video_capture.get(cv2.CAP_PROP_FRAME_HEIGHT))\n",
    "\n",
    "print('frame size',size)\n",
    "video_writer = cv2.VideoWriter('output_video.avi',\n",
    "                               cv2.VideoWriter_fourcc('P','I','M','1'),\n",
    "                              60.0,size)\n",
    "\n",
    "success, frame = video_capture.read()\n",
    "while success:\n",
    "    video_writer.write(frame)\n",
    "    success, frame = video_capture.read()"
   ]
  },
  {
   "cell_type": "markdown",
   "metadata": {},
   "source": [
    "Test Results:\n",
    "    \n",
    "    After changing the fps, the video was 3 times faster. The original video length was 20 seconds, and the new video \n",
    "    length was 6 seconds. This result suggest that this piece of code can be used for video speeding feature"
   ]
  },
  {
   "cell_type": "code",
   "execution_count": null,
   "metadata": {},
   "outputs": [],
   "source": []
  }
 ],
 "metadata": {
  "kernelspec": {
   "display_name": "Python 3",
   "language": "python",
   "name": "python3"
  },
  "language_info": {
   "codemirror_mode": {
    "name": "ipython",
    "version": 3
   },
   "file_extension": ".py",
   "mimetype": "text/x-python",
   "name": "python",
   "nbconvert_exporter": "python",
   "pygments_lexer": "ipython3",
   "version": "3.8.3"
  }
 },
 "nbformat": 4,
 "nbformat_minor": 4
}
