{
 "cells": [
  {
   "cell_type": "code",
   "execution_count": 1,
   "metadata": {},
   "outputs": [],
   "source": [
    "import cv2\n",
    "import numpy as np\n",
    "import matplotlib.pyplot as plt\n",
    "import PIL.Image as Image\n",
    "import PIL.ImageFont as ImageFont\n",
    "import PIL.ImageDraw as ImageDraw\n"
   ]
  },
  {
   "cell_type": "code",
   "execution_count": 178,
   "metadata": {},
   "outputs": [
    {
     "data": {
      "image/png": "[encoded data removed]",
      "text/plain": [
       "<Figure size 432x288 with 1 Axes>"
      ]
     },
     "metadata": {
      "needs_background": "light"
     },
     "output_type": "display_data"
    }
   ],
   "source": [
    "image = np.zeros((1920,1080,3), dtype = 'uint8') + 55\n",
    "plt.imshow(image)\n",
    "plt.show()"
   ]
  },
  {
   "cell_type": "code",
   "execution_count": 179,
   "metadata": {},
   "outputs": [],
   "source": [
    "pil_image = Image.fromarray(image)\n",
    "draw = ImageDraw.Draw(pil_image)\n",
    "text1 = \"\\\"and still,\"\n",
    "text2 = \"I rise.\\\"\"\n",
    "font = ImageFont.truetype('/home/dexter/Downloads/ShmallynFont-Regular (2).ttf',70)\n",
    "\n",
    "draw.text((1080/2-140,1920/2-150), text1,font = font, fill =\"#fff\")\n",
    "draw.text((1080/2-60,1920/2+20), text2,font = font, fill =\"#fff\")\n"
   ]
  },
  {
   "cell_type": "code",
   "execution_count": 180,
   "metadata": {},
   "outputs": [
    {
     "data": {
      "image/png": "[encoded data removed]",
      "text/plain": [
       "<Figure size 432x288 with 1 Axes>"
      ]
     },
     "metadata": {
      "needs_background": "light"
     },
     "output_type": "display_data"
    }
   ],
   "source": [
    "new_image = cv2.cvtColor(np.array(pil_image),cv2.COLOR_BGR2RGB)\n",
    "plt.imshow(new_image)\n",
    "plt.show()"
   ]
  },
  {
   "cell_type": "code",
   "execution_count": 25,
   "metadata": {},
   "outputs": [
    {
     "data": {
      "text/plain": [
       "True"
      ]
     },
     "execution_count": 25,
     "metadata": {},
     "output_type": "execute_result"
    }
   ],
   "source": [
    "cv2.imwrite(\"wallpaper_phone.jpg\",cv2.cvtColor(new_image,cv2.COLOR_BGR2RGB))"
   ]
  },
  {
   "cell_type": "code",
   "execution_count": 199,
   "metadata": {},
   "outputs": [
    {
     "data": {
      "image/png": "[encoded data removed]",
      "text/plain": [
       "<Figure size 432x288 with 1 Axes>"
      ]
     },
     "metadata": {
      "needs_background": "light"
     },
     "output_type": "display_data"
    }
   ],
   "source": [
    "r,g,b = cv2.split(new_image)\n",
    "\n",
    "increment = 20\n",
    "for i in range(0,1080,increment):\n",
    "    for j in range(0,1920,increment):\n",
    "        if ((j < 750) or \\\n",
    "        (i < 330)) and j < 1110 :\n",
    "            r[j:j+increment-2,i:i+increment-2] = 9\n",
    "            g[j:j+increment-2,i:i+increment-2] = 12\n",
    "            b[j:j+increment-2,i:i+increment-2] = 2\n",
    "        elif (j > 1110 or i > 750):\n",
    "            r[j:j+increment-2,i:i+increment-2] = 16\n",
    "            g[j:j+increment-2,i:i+increment-2] = 16\n",
    "            b[j:j+increment-2,i:i+increment-2] = 16\n",
    "\n",
    "grain_image = cv2.merge([r,g,b])\n",
    "\n",
    "plt.imshow(grain_image)\n",
    "plt.tight_layout()\n",
    "plt.show()"
   ]
  },
  {
   "cell_type": "code",
   "execution_count": 193,
   "metadata": {},
   "outputs": [
    {
     "data": {
      "text/plain": [
       "True"
      ]
     },
     "execution_count": 193,
     "metadata": {},
     "output_type": "execute_result"
    }
   ],
   "source": [
    "cv2.imwrite(\"wallpaper_phone4.jpg\",cv2.cvtColor(grain_image,cv2.COLOR_BGR2RGB))"
   ]
  },
  {
   "cell_type": "code",
   "execution_count": null,
   "metadata": {},
   "outputs": [],
   "source": []
  }
 ],
 "metadata": {
  "kernelspec": {
   "display_name": "Python 2",
   "language": "python",
   "name": "python2"
  },
  "language_info": {
   "codemirror_mode": {
    "name": "ipython",
    "version": 2
   },
   "file_extension": ".py",
   "mimetype": "text/x-python",
   "name": "python",
   "nbconvert_exporter": "python",
   "pygments_lexer": "ipython2",
   "version": "2.7.18"
  }
 },
 "nbformat": 4,
 "nbformat_minor": 2
}
